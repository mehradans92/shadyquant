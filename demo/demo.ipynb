{
 "cells": [
  {
   "cell_type": "code",
   "execution_count": null,
   "id": "06bfe0b1",
   "metadata": {},
   "outputs": [],
   "source": [
    "import sq\n",
    "import matplotlib.pyplot as plt\n",
    "import numpy as np"
   ]
  },
  {
   "cell_type": "code",
   "execution_count": null,
   "id": "2445770e",
   "metadata": {},
   "outputs": [],
   "source": [
    "x = np.linspace(0, 2, 1000)\n",
    "y = np.sin(x)\n",
    "plt.plot(x, y)\n",
    "plt.show()"
   ]
  },
  {
   "cell_type": "code",
   "execution_count": null,
   "id": "6556aef5",
   "metadata": {},
   "outputs": [],
   "source": [
    "w = np.random.normal(size=100) ** 2\n",
    "traj = y + y * w[:, None]\n",
    "plt.plot(traj.T, color=\"C0\")\n",
    "plt.show()"
   ]
  },
  {
   "cell_type": "code",
   "execution_count": null,
   "id": "7a58e51d",
   "metadata": {
    "scrolled": true
   },
   "outputs": [],
   "source": [
    "sq.traj_quantile(traj)"
   ]
  },
  {
   "cell_type": "code",
   "execution_count": null,
   "id": "2bd3e8c7",
   "metadata": {},
   "outputs": [],
   "source": [
    "sq.traj_quantile(traj, fancy_shading=True)"
   ]
  },
  {
   "cell_type": "code",
   "execution_count": null,
   "id": "20f0373b",
   "metadata": {},
   "outputs": [],
   "source": [
    "sq.traj_quantile(traj, weights=w)"
   ]
  },
  {
   "cell_type": "code",
   "execution_count": null,
   "id": "73714eca",
   "metadata": {},
   "outputs": [],
   "source": [
    "plt.figure(figsize=(8, 3))\n",
    "ax = plt.gca()\n",
    "sq.traj_quantile(\n",
    "    traj,\n",
    "    ax=ax,\n",
    "    fancy_shading=True,\n",
    "    lower_q_bound=1 / 3,\n",
    "    upper_q_bound=2 / 3,\n",
    "    levels=100,\n",
    "    color=\"red\",\n",
    "    alpha=0.01,\n",
    ")"
   ]
  },
  {
   "cell_type": "code",
   "execution_count": null,
   "id": "8db4575e",
   "metadata": {},
   "outputs": [],
   "source": []
  }
 ],
 "metadata": {
  "kernelspec": {
   "display_name": "Python 3 (ipykernel)",
   "language": "python",
   "name": "python3"
  },
  "language_info": {
   "codemirror_mode": {
    "name": "ipython",
    "version": 3
   },
   "file_extension": ".py",
   "mimetype": "text/x-python",
   "name": "python",
   "nbconvert_exporter": "python",
   "pygments_lexer": "ipython3",
   "version": "3.8.13"
  }
 },
 "nbformat": 4,
 "nbformat_minor": 5
}
